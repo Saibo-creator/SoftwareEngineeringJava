{
 "cells": [
  {
   "cell_type": "markdown",
   "metadata": {
    "cell_id": "00000-397de2c8-4123-473e-92d3-a8fcd0086a11",
    "deepnote_cell_type": "markdown",
    "output_cleared": false
   },
   "source": [
    "# Performance in Python"
   ]
  },
  {
   "cell_type": "markdown",
   "metadata": {
    "cell_id": "00001-90f82b38-1292-46cf-8a29-bc4f1400a28f",
    "deepnote_cell_type": "markdown",
    "output_cleared": false,
    "tags": []
   },
   "source": [
    "## 1. Introduction"
   ]
  },
  {
   "cell_type": "markdown",
   "metadata": {
    "cell_id": "00002-98942707-ee82-4b78-8b28-67c962b851c6",
    "deepnote_cell_type": "markdown",
    "output_cleared": false,
    "tags": []
   },
   "source": [
    "Python is a high-level language designed to write code fast, more than write fast code. In such high-level languages, the bulk of your computation should be performed by off-the-shelf libraries, with your own code only tying everything together, or aspects specific to your application. This is also important for performance, as if you find yourself doing a low-level computation in plain Python, you're probably making your program way slower than it could be, and wasting time reinventing the wheel along the way.\n",
    "\n",
    "We can ask the python notebook to measure the execution time of a statement using `%timeit` (notebook [magic](https://ipython.readthedocs.io/en/stable/interactive/magics.html) for [`timeit`](https://docs.python.org/3/library/timeit.html)). The statement will not be executed just one, but an appropriately large number of times, and generally gives a good measurement of its running time.\n",
    "To benchmark deeper or more complex programs, we can use profiling tools such as [cProfile](https://docs.python.org/3/library/profile.html). There exists great modules for visualizing the output of the profiler, such as [SnakeViz](https://jiffyclub.github.io/snakeviz/)."
   ]
  },
  {
   "cell_type": "markdown",
   "metadata": {
    "cell_id": "00003-60b90205-8014-4afc-bb33-4ac9b16131ed",
    "deepnote_cell_type": "markdown",
    "output_cleared": false,
    "tags": []
   },
   "source": [
    "## 2. Built-ins\n",
    "\n",
    "In Python, we typically use [built-in functions](https://docs.python.org/3/library/functions.html) and libraries (modules) that are well-optimized for specific tasks, such as `len`, `sum`, `max` and the like. You should use them when possible, rather than your own implementations. We will see later that in some cases they can be superseded by module-specific functions (like `numpy`'s functions on `numpy`'s objects, if you're doing math), but compared to general Python, built-ins are very fast.\n",
    "\n",
    "\n",
    "Let's compare summing a list of integers with the built-in `sum` and with the usual, naive `for` loop:"
   ]
  },
  {
   "cell_type": "code",
   "execution_count": 1,
   "metadata": {
    "cell_id": "00003-379ecde6-b6c6-4734-8fec-0f069ce1c45b",
    "deepnote_cell_type": "code",
    "execution_millis": 18128,
    "execution_start": 1605542426913,
    "output_cleared": false,
    "source_hash": "f39e5252",
    "tags": []
   },
   "outputs": [
    {
     "name": "stdout",
     "output_type": "stream",
     "text": [
      "Sum via for loop:\n",
      "72.1 ms ± 879 µs per loop (mean ± std. dev. of 7 runs, 10 loops each)\n",
      "Sum via builtin:\n",
      "12.8 ms ± 367 µs per loop (mean ± std. dev. of 7 runs, 100 loops each)\n"
     ]
    }
   ],
   "source": [
    "import random\n",
    "\n",
    "numbers = [random.randint(0,10) for i in range(1_000_000)]\n",
    "\n",
    "def my_sum(numbers):\n",
    "    s = 0\n",
    "    for n in numbers:\n",
    "        s += n\n",
    "    return s\n",
    "\n",
    "print(\"Sum via for loop:\")\n",
    "%timeit my_sum(numbers)\n",
    "print(\"Sum via builtin:\")\n",
    "%timeit sum(numbers)\n"
   ]
  },
  {
   "cell_type": "markdown",
   "metadata": {
    "cell_id": "00004-fbf22264-2fa0-4fae-b6f1-7be354698e53",
    "deepnote_cell_type": "markdown",
    "output_cleared": false,
    "tags": []
   },
   "source": [
    "We get a speedup of roughly 5x!\n",
    "\n",
    "## 3. List comprehensions\n",
    "\n",
    "We generated the random array of numbers using a *list comprehension*. This is a way to build lists without explicit `for` loops, using a generating expression. They are usually significantly faster than iteratively building a list using append. Let's measure that, by squaring a list of numbers. Along the way, we will also compare iterating the list using the keyword `in` against explicitly indexing elements."
   ]
  },
  {
   "cell_type": "code",
   "execution_count": 2,
   "metadata": {
    "cell_id": "00005-cb00f51f-cec8-4af7-9141-aec5fcff5f59",
    "deepnote_cell_type": "code",
    "execution_millis": 17043,
    "execution_start": 1605542445058,
    "output_cleared": false,
    "source_hash": "346220dc",
    "tags": []
   },
   "outputs": [
    {
     "name": "stdout",
     "output_type": "stream",
     "text": [
      "220 ms ± 1.53 ms per loop (mean ± std. dev. of 7 runs, 1 loop each)\n",
      "129 ms ± 2.98 ms per loop (mean ± std. dev. of 7 runs, 10 loops each)\n",
      "59.4 ms ± 709 µs per loop (mean ± std. dev. of 7 runs, 10 loops each)\n"
     ]
    }
   ],
   "source": [
    "def square_list_direct_indexing(numbers):\n",
    "    result = []\n",
    "    for i in range(len(numbers)):\n",
    "        result.append(numbers[i]*numbers[i])\n",
    "    return result\n",
    "\n",
    "def square_list_using_in(numbers):\n",
    "    result = []\n",
    "    for n in numbers:\n",
    "        result.append(n*n)\n",
    "    return result\n",
    "\n",
    "%timeit square_list_direct_indexing(numbers)\n",
    "%timeit square_list_using_in(numbers)\n",
    "%timeit [n*n for n in numbers]\n"
   ]
  },
  {
   "cell_type": "markdown",
   "metadata": {
    "cell_id": "00007-8566ab0d-3beb-4925-ae5a-8567304126cc",
    "deepnote_cell_type": "markdown",
    "output_cleared": false,
    "tags": []
   },
   "source": [
    "As you can see, we are roughly getting a 2x speedup each time, for a total of 4x.\n",
    "\n",
    "For squaring, you might be tempted to use the `**` exponentiation operator, especially if your variable names are long and multiplying `variable * variable` is tedious. But surprise, the exponentiation operator and the built-in `pow` are more expensive (probably because much more general) than multiplication. `pow` also uses float semantics systematically, whereas `**` can exponentiate integers directly. See:"
   ]
  },
  {
   "cell_type": "code",
   "execution_count": 3,
   "metadata": {
    "cell_id": "00008-21c07e36-4e80-4811-9c86-8023f84f423a",
    "deepnote_cell_type": "code",
    "execution_millis": 11188,
    "execution_start": 1605542462112,
    "output_cleared": false,
    "source_hash": "7576eb35",
    "tags": []
   },
   "outputs": [
    {
     "name": "stdout",
     "output_type": "stream",
     "text": [
      "387 ms ± 1.09 ms per loop (mean ± std. dev. of 7 runs, 1 loop each)\n",
      "414 ms ± 490 µs per loop (mean ± std. dev. of 7 runs, 1 loop each)\n",
      "59.9 ms ± 391 µs per loop (mean ± std. dev. of 7 runs, 10 loops each)\n"
     ]
    }
   ],
   "source": [
    "%timeit [pow(n, 2) for n in numbers]\n",
    "%timeit [n**2 for n in numbers]\n",
    "%timeit [n*n for n in numbers]"
   ]
  },
  {
   "cell_type": "markdown",
   "metadata": {
    "cell_id": "00008-c5d13e9f-d408-4de3-9292-00404c209c30",
    "deepnote_cell_type": "markdown",
    "output_cleared": false,
    "tags": []
   },
   "source": [
    "## 4. Function call overhead\n",
    "\n",
    "Function calls also have significant overhead in Python. Let's compare calling a function inside a `for` comprehension, against putting the `for` comprehension inside the function:"
   ]
  },
  {
   "cell_type": "code",
   "execution_count": 4,
   "metadata": {
    "cell_id": "00009-3b4822b4-631b-4bd2-aea5-e93a9ad6fdab",
    "deepnote_cell_type": "code",
    "execution_millis": 4932,
    "execution_start": 1605542473325,
    "output_cleared": false,
    "source_hash": "93e511dc",
    "tags": []
   },
   "outputs": [
    {
     "name": "stdout",
     "output_type": "stream",
     "text": [
      "361 ms ± 1.6 ms per loop (mean ± std. dev. of 7 runs, 1 loop each)\n",
      "256 ms ± 1.92 ms per loop (mean ± std. dev. of 7 runs, 1 loop each)\n"
     ]
    }
   ],
   "source": [
    "from math import sqrt\n",
    "\n",
    "def my_function(x):\n",
    "    return 0.5 * sqrt(1 + x*x)\n",
    "\n",
    "def my_function_on_arrays(xs):\n",
    "    return [0.5 * sqrt(1 + x*x) for x in xs]\n",
    "\n",
    "%timeit [my_function(x) for x in numbers]\n",
    "%timeit my_function_on_arrays(numbers)"
   ]
  },
  {
   "cell_type": "markdown",
   "metadata": {
    "cell_id": "00010-8729f8fd-7888-4a5d-b197-c01a8faddc07",
    "deepnote_cell_type": "markdown",
    "output_cleared": false,
    "tags": []
   },
   "source": [
    "As you can see, avoiding calls in a loop saves significant time.\n",
    "\n",
    "## 5. Data structures and membership testing\n",
    "\n",
    "We will now highlight the importance of tailoring which data structure you use to the type of computation you are going to do."
   ]
  },
  {
   "cell_type": "code",
   "execution_count": 5,
   "metadata": {
    "cell_id": "00006-f35f6f2a-ee09-420d-bd9c-b2bcf1d053f2",
    "deepnote_cell_type": "code",
    "execution_millis": 204,
    "execution_start": 1605542478261,
    "output_cleared": false,
    "source_hash": "5b350fcd",
    "tags": []
   },
   "outputs": [
    {
     "name": "stdout",
     "output_type": "stream",
     "text": [
      "466550\n"
     ]
    }
   ],
   "source": [
    "# Load all english words in alphabetic order\n",
    "with open(\"words.txt\", \"r\") as f:\n",
    "    words = f.read().splitlines()\n",
    "    words = [word.lower() for word in words]\n",
    "\n",
    "print(len(words))"
   ]
  },
  {
   "cell_type": "code",
   "execution_count": 6,
   "metadata": {
    "cell_id": "00003-7687f18b-5125-427d-b40e-ad978bae9ddf",
    "deepnote_cell_type": "code",
    "execution_millis": 29298,
    "execution_start": 1605542478466,
    "output_cleared": false,
    "source_hash": "b059cc44",
    "tags": []
   },
   "outputs": [
    {
     "name": "stdout",
     "output_type": "stream",
     "text": [
      "Looking for 'anaconda' and 'zebra' in the word list:\n",
      "350 µs ± 2.14 µs per loop (mean ± std. dev. of 7 runs, 1000 loops each)\n",
      "12.2 ms ± 162 µs per loop (mean ± std. dev. of 7 runs, 100 loops each)\n",
      "Converting the list to a set:\n",
      "67.1 ms ± 1.51 ms per loop (mean ± std. dev. of 7 runs, 10 loops each)\n",
      "Looking for 'anaconda' and 'zebra' in the word set:\n",
      "67.6 ns ± 0.293 ns per loop (mean ± std. dev. of 7 runs, 10000000 loops each)\n",
      "66.7 ns ± 0.484 ns per loop (mean ± std. dev. of 7 runs, 10000000 loops each)\n"
     ]
    }
   ],
   "source": [
    "# Position of element in list matters for \"in\"\n",
    "print(\"Looking for 'anaconda' and 'zebra' in the word list:\")\n",
    "%timeit \"anaconda\" in words\n",
    "%timeit \"zebra\" in words\n",
    "\n",
    "\n",
    "# Let's spend some effort converting that list into a set, and test membership on that\n",
    "print(\"Converting the list to a set:\")\n",
    "wordset = set(words)\n",
    "%timeit set(words)\n",
    "print(\"Looking for 'anaconda' and 'zebra' in the word set:\")\n",
    "%timeit \"anaconda\" in wordset\n",
    "%timeit \"zebra\" in wordset\n"
   ]
  },
  {
   "cell_type": "markdown",
   "metadata": {
    "cell_id": "00013-e01cde44-ce18-46ac-a746-599faeadf116",
    "deepnote_cell_type": "markdown",
    "output_cleared": false,
    "tags": []
   },
   "source": [
    "We can either spend anywhere between 0 and >12ms per test on a list with a O(n) sequential scan, or take ~66ms to construct a set and then have ≤100ns per lookup. For this collection of half a million short strings, it becomes worthwhile at about 10 tests! \n",
    "\n",
    "Conversion to set is even more worthwhile when the base list contains duplicates, which was not the case here."
   ]
  },
  {
   "cell_type": "markdown",
   "metadata": {
    "cell_id": "00013-0176e862-e1e5-426c-a903-02647178cac0",
    "deepnote_cell_type": "markdown",
    "output_cleared": false,
    "tags": []
   },
   "source": [
    "The takeaway is that in Python, the more straightforward you are, generally the faster your code runs. This is not necessarily the case, for example, in compiled languages like C/C++ where a (very) smart compiler can figure out optimizations for you. In Python, there is no advanced compiler to help you, so the more specific you are when writing your code, the faster it can be executed (we will see later that with Numba and JIT compilation, we can sometimes have the best of both worlds). \n",
    "\n",
    "Just as in any language, using [the right data structure](https://docs.python.org/3/library/collections.html#module-collections) for the usage you're making is very important.\n",
    "\n"
   ]
  },
  {
   "cell_type": "markdown",
   "metadata": {
    "cell_id": "00013-0050bb37-5665-4aee-acc5-4a2916e18519",
    "deepnote_cell_type": "markdown",
    "output_cleared": false,
    "tags": []
   },
   "source": [
    "\n",
    "\n",
    "In the next section, we will illustrate how using-the-shelf specialized modules whenever relevant can save a lot of time, both writing *and* executing code, with the example of `numpy`."
   ]
  },
  {
   "cell_type": "markdown",
   "metadata": {
    "cell_id": "00002-25083b30-cf3c-4070-9094-0f64e8cb9cd4",
    "deepnote_cell_type": "markdown",
    "execution_millis": 5,
    "execution_start": 1605375817997,
    "output_cleared": false,
    "source_hash": "53f094f3",
    "tags": []
   },
   "source": [
    "## 6. Arrays with NumPy\n",
    "\n",
    "For numerical & scientific computing, using modules such as [**NumPy**](https://numpy.org/), which at their core use well-optimized C code, can lead to significant speed-ups.\n",
    "\n",
    "NumPy is designed for [array programming](https://en.wikipedia.org/wiki/Array_programming), which supports vectorized operations that operate on entire arrays at once. When using such libraries, vectorized operations can lead to massive speed-ups over nested for-loops.\n",
    "\n",
    "For more information on array programming, check out [this tutorial](https://realpython.com/numpy-array-programming/) and [NumPy's documentation](https://numpy.org/doc/stable/)."
   ]
  },
  {
   "cell_type": "markdown",
   "metadata": {
    "cell_id": "00015-015c8c99-7db1-4cfd-9ecd-10b3eb5704ae",
    "deepnote_cell_type": "markdown",
    "output_cleared": false,
    "tags": []
   },
   "source": [
    "First, let's compare NumPy arrays to Python lists. We will use a list of random numbers, and compare how fast squaring each entry is with lists, and with Numpy arrays:"
   ]
  },
  {
   "cell_type": "code",
   "execution_count": 7,
   "metadata": {
    "cell_id": "00016-55b1ac7f-aac5-4e1c-901a-f7bca16daa06",
    "deepnote_cell_type": "code",
    "execution_millis": 17021,
    "execution_start": 1605542507837,
    "output_cleared": false,
    "source_hash": "1a5272fb",
    "tags": []
   },
   "outputs": [
    {
     "name": "stdout",
     "output_type": "stream",
     "text": [
      "116 ms ± 892 µs per loop (mean ± std. dev. of 7 runs, 10 loops each)\n",
      "906 µs ± 22.9 µs per loop (mean ± std. dev. of 7 runs, 1000 loops each)\n"
     ]
    }
   ],
   "source": [
    "import numpy as np\n",
    "\n",
    "numbers = [random.random() for i in range(1_000_000)]\n",
    "numbers_arr = np.array(numbers)\n",
    "\n",
    "%timeit [n*n for n in numbers]\n",
    "%timeit numbers_arr ** 2"
   ]
  },
  {
   "cell_type": "markdown",
   "metadata": {
    "cell_id": "00016-9a63b8d2-bddf-476e-b4bf-f907e1583a16",
    "deepnote_cell_type": "markdown",
    "output_cleared": false,
    "tags": []
   },
   "source": [
    "As you can see, NumPy arrays are over 100x faster for this specific task!"
   ]
  },
  {
   "cell_type": "markdown",
   "metadata": {
    "cell_id": "00003-5f283256-46f9-449c-b286-d9a855df2ba6",
    "deepnote_cell_type": "markdown",
    "output_cleared": false,
    "tags": []
   },
   "source": [
    "Now, let's show how fast vectorized operations are over nested \"for-loops\". \n",
    "\n",
    "To show that, let's implement a function that multiplies each entry of a matrix by its row number."
   ]
  },
  {
   "cell_type": "code",
   "execution_count": 8,
   "metadata": {
    "cell_id": "00003-940b8efd-d2f8-46e0-8eaa-cec530fd3846",
    "deepnote_cell_type": "code",
    "execution_millis": 1,
    "execution_start": 1605542524929,
    "output_cleared": false,
    "source_hash": "f8381281",
    "tags": []
   },
   "outputs": [],
   "source": [
    "# Naive implementation that iterates over each entry of the array\n",
    "def row_multiply_naive(x):\n",
    "    x = x.copy()\n",
    "    for i in range(x.shape[0]):\n",
    "        for j in range(x.shape[1]):\n",
    "            x[i, j] = x[i, j] * i\n",
    "    return x\n",
    "\n",
    "# Slightly better naive implementation, that only iterates over rows\n",
    "def row_multiply_naive_2(x):\n",
    "    x = x.copy()\n",
    "    for i in range(x.shape[0]):\n",
    "        x[i, :] = x[i, :] * i\n",
    "    return x\n",
    "\n",
    "# Vectorized implementation\n",
    "def row_multiply_vectorized(x):\n",
    "    return x * np.arange(x.shape[0])[:, np.newaxis]"
   ]
  },
  {
   "cell_type": "code",
   "execution_count": 9,
   "metadata": {
    "cell_id": "00004-05e305c9-9c85-4882-8df2-0aabd8d5ad20",
    "deepnote_cell_type": "code",
    "execution_millis": 13664,
    "execution_start": 1605542524941,
    "output_cleared": false,
    "source_hash": "5afd8cf5",
    "tags": []
   },
   "outputs": [
    {
     "name": "stdout",
     "output_type": "stream",
     "text": [
      "Naive:\n",
      "920 ms ± 8.58 ms per loop (mean ± std. dev. of 7 runs, 1 loop each)\n",
      "Naive 2:\n",
      "32.9 ms ± 319 µs per loop (mean ± std. dev. of 7 runs, 10 loops each)\n",
      "Vectorized:\n",
      "2.1 ms ± 16.6 µs per loop (mean ± std. dev. of 7 runs, 100 loops each)\n"
     ]
    }
   ],
   "source": [
    "# Initialize a random matrix with 10'000 rows and 100 columns\n",
    "a = np.random.rand(10_000, 100)\n",
    "\n",
    "# Check that all three implementations give the same result\n",
    "assert(np.all(row_multiply_naive(a) == row_multiply_naive_2(a)))\n",
    "assert(np.all(row_multiply_naive(a) == row_multiply_vectorized(a)))\n",
    "\n",
    "# Benchmark implementations\n",
    "print(\"Naive:\")\n",
    "%timeit row_multiply_naive(a)\n",
    "\n",
    "print(\"Naive 2:\")\n",
    "%timeit row_multiply_naive_2(a)\n",
    "\n",
    "print(\"Vectorized:\")\n",
    "%timeit row_multiply_vectorized(a)"
   ]
  },
  {
   "cell_type": "markdown",
   "metadata": {
    "cell_id": "00009-efbcd73f-56f2-46e8-b1d6-0b9e69ce8a37",
    "deepnote_cell_type": "markdown",
    "output_cleared": false,
    "tags": []
   },
   "source": [
    "Using Numpy's vectorization results in a roughly 400x speed-up over the naive implementation!"
   ]
  },
  {
   "cell_type": "markdown",
   "metadata": {
    "cell_id": "00007-f4beffcd-d2ec-4780-9c20-33a7b1a55807",
    "deepnote_cell_type": "markdown",
    "output_cleared": false,
    "tags": []
   },
   "source": [
    "## 7. JIT compilation with Numba"
   ]
  },
  {
   "cell_type": "code",
   "execution_count": null,
   "metadata": {
    "cell_id": "00026-b1c2fff3-e42b-4bf4-b124-eb074ddb7bd3",
    "deepnote_cell_type": "code",
    "execution_millis": 1883,
    "output_cleared": false,
    "source_hash": "d4e530be",
    "tags": []
   },
   "outputs": [],
   "source": [
    "# Run this cell if you don't have Numba installed\n",
    "!pip install numba"
   ]
  },
  {
   "cell_type": "markdown",
   "metadata": {
    "cell_id": "00008-4e039fa6-cfcd-46ee-8737-9e3788fb9b9b",
    "deepnote_cell_type": "markdown",
    "output_cleared": false,
    "tags": []
   },
   "source": [
    "[Numba](https://numba.pydata.org/) is a module that allows you to significantly speed up functions, by translating Python functions to optimized machine code at runtime, using Just-in-Time compilation (JIT). The Python language has characteristics that make it poorly suited for static optimization, but with the magic of JIT, Numba can compile your code knowing some extra information that cannot always be known statically.\n",
    "\n",
    "To do so, add the `@jit` decorator to a function, which will let Numba optimize it, although keep in mind that not all functions are supported by Numba. You can find more about what kind of functions should be compiled by Numba [here](https://numba.readthedocs.io/en/stable/user/troubleshoot.html). \n",
    "\n",
    "If you want to learn more about Numba, check out the [quick-start guide](https://numba.readthedocs.io/en/stable/user/5minguide.html)."
   ]
  },
  {
   "cell_type": "markdown",
   "metadata": {
    "cell_id": "00012-a6fd7547-1a20-4900-bd74-1b0c3ef8ba2a",
    "deepnote_cell_type": "markdown",
    "output_cleared": false,
    "tags": []
   },
   "source": [
    "**Example 1:** (Very naively) counting the number of multiples"
   ]
  },
  {
   "cell_type": "code",
   "execution_count": 10,
   "metadata": {
    "cell_id": "00008-02209e51-6f63-493c-ac01-2718043766ba",
    "deepnote_cell_type": "code",
    "execution_millis": 448,
    "execution_start": 1605542538606,
    "output_cleared": false,
    "source_hash": "a07308a2",
    "tags": []
   },
   "outputs": [],
   "source": [
    "from numba import jit\n",
    "\n",
    "# Function that (very naively) counts the number of integers between 0 and 10 million that are divisible by a given integer\n",
    "def count_multiples_naive(divisor):\n",
    "    count = 0\n",
    "    for i in range(10_000_000):\n",
    "        if i % divisor == 0:\n",
    "            count += 1\n",
    "    return count\n",
    "\n",
    "# Same function, but with the jit decorator added\n",
    "@jit\n",
    "def count_multiples_naive_jit(divisor):\n",
    "    count = 0\n",
    "    for i in range(10_000_000):\n",
    "        if i % divisor == 0:\n",
    "            count += 1\n",
    "    return count"
   ]
  },
  {
   "cell_type": "code",
   "execution_count": 11,
   "metadata": {
    "cell_id": "00011-83bb88a1-dbc9-4010-9a4b-a85b3b9b4f75",
    "deepnote_cell_type": "code",
    "execution_millis": 12066,
    "execution_start": 1605542539057,
    "output_cleared": false,
    "source_hash": "d856e652",
    "tags": []
   },
   "outputs": [
    {
     "name": "stdout",
     "output_type": "stream",
     "text": [
      "Naive implementation:\n",
      "918 ms ± 7.62 ms per loop (mean ± std. dev. of 7 runs, 1 loop each)\n",
      "Naive implementation with Numba JIT compilation:\n",
      "41.2 ms ± 134 µs per loop (mean ± std. dev. of 7 runs, 10 loops each)\n"
     ]
    }
   ],
   "source": [
    "assert(count_multiples_naive(42) == count_multiples_naive_jit(42))\n",
    "\n",
    "print(\"Naive implementation:\")\n",
    "%timeit count_multiples_naive(42) \n",
    "print(\"Naive implementation with Numba JIT compilation:\")\n",
    "%timeit count_multiples_naive_jit(42)"
   ]
  },
  {
   "cell_type": "markdown",
   "metadata": {
    "cell_id": "00012-90836fca-2b03-45b5-9f1a-21b244ab32f0",
    "deepnote_cell_type": "markdown",
    "output_cleared": false,
    "tags": []
   },
   "source": [
    "With the addition of just one `@jit` annotation, we obtain a roughly 20x speed-up!"
   ]
  },
  {
   "cell_type": "markdown",
   "metadata": {
    "cell_id": "00015-13f66bfb-4cf8-45e2-a841-1a733cb62a62",
    "deepnote_cell_type": "markdown",
    "output_cleared": false,
    "tags": []
   },
   "source": [
    "**Example 2:** Estimating pi using the Monte Carlo method"
   ]
  },
  {
   "cell_type": "code",
   "execution_count": 12,
   "metadata": {
    "cell_id": "00012-b8b65574-ff3f-427e-a97e-f5ac954b436a",
    "deepnote_cell_type": "code",
    "execution_millis": 1,
    "execution_start": 1605542551140,
    "output_cleared": false,
    "source_hash": "79fc764",
    "tags": []
   },
   "outputs": [],
   "source": [
    "import random \n",
    "\n",
    "# Estimating pi using the Monte-Carlo method\n",
    "def monte_carlo_pi(n_samples):\n",
    "    acc = 0\n",
    "    for i in range(n_samples):\n",
    "        x = random.random()\n",
    "        y = random.random()\n",
    "        if (x ** 2 + y ** 2) < 1.0:\n",
    "            acc += 1\n",
    "    return 4.0 * acc / n_samples\n",
    "\n",
    "\n",
    "@jit\n",
    "def monte_carlo_pi_jit(n_samples):\n",
    "    acc = 0\n",
    "    for i in range(n_samples):\n",
    "        x = random.random()\n",
    "        y = random.random()\n",
    "        if (x ** 2 + y ** 2) < 1.0:\n",
    "            acc += 1\n",
    "    return 4.0 * acc / n_samples\n",
    "\n"
   ]
  },
  {
   "cell_type": "code",
   "execution_count": 13,
   "metadata": {
    "cell_id": "00013-69f40a74-2543-4ce9-8063-7ad8bded7172",
    "deepnote_cell_type": "code",
    "execution_millis": 5115,
    "execution_start": 1605542551157,
    "output_cleared": false,
    "source_hash": "b50da25e",
    "tags": []
   },
   "outputs": [
    {
     "name": "stdout",
     "output_type": "stream",
     "text": [
      "586 ms ± 16.9 ms per loop (mean ± std. dev. of 7 runs, 1 loop each)\n",
      "19.5 ms ± 58.8 µs per loop (mean ± std. dev. of 7 runs, 1 loop each)\n"
     ]
    }
   ],
   "source": [
    "# Timing 1 million samples\n",
    "%timeit monte_carlo_pi(1_000_000)\n",
    "%timeit monte_carlo_pi_jit(1_000_000)"
   ]
  },
  {
   "cell_type": "markdown",
   "metadata": {
    "cell_id": "00019-ee59bf2c-cf3e-4522-a22d-0f4b2fe0dc25",
    "deepnote_cell_type": "markdown",
    "output_cleared": false,
    "tags": []
   },
   "source": [
    "We obtain a roughly 30x speed-up!"
   ]
  },
  {
   "cell_type": "markdown",
   "metadata": {
    "cell_id": "00037-99862f79-e584-43cb-969c-78d214ec39b6",
    "deepnote_cell_type": "markdown",
    "tags": []
   },
   "source": [
    "To apply what you have learned in this document, check out the exercises, and try to obtain those sweet sweet speedups using the tricks you just learned! Gotta go fast!"
   ]
  }
 ],
 "metadata": {
  "deepnoteSessionId": "dea8a0f5-35e3-4468-94eb-804ff5fc7baa",
  "deepnote_execution_queue": [],
  "deepnote_notebook_id": "c7182f3d-ebe7-42cc-8a04-427effc32103",
  "kernelspec": {
   "display_name": "Python 3",
   "language": "python",
   "name": "python3"
  },
  "language_info": {
   "codemirror_mode": {
    "name": "ipython",
    "version": 3
   },
   "file_extension": ".py",
   "mimetype": "text/x-python",
   "name": "python",
   "nbconvert_exporter": "python",
   "pygments_lexer": "ipython3",
   "version": "3.7.6"
  }
 },
 "nbformat": 4,
 "nbformat_minor": 4
}

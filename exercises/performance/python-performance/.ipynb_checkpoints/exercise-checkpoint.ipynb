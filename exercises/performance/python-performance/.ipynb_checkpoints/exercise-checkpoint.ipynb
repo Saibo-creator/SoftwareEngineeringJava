{
 "cells": [
  {
   "cell_type": "markdown",
   "metadata": {
    "cell_id": "00000-a9ed31de-a904-449b-b58a-5211f773dd59",
    "deepnote_cell_type": "markdown",
    "tags": []
   },
   "source": [
    "## Exercise"
   ]
  },
  {
   "cell_type": "markdown",
   "metadata": {
    "cell_id": "00001-83119142-1db9-42a5-a7ff-7e25f7ff2403",
    "deepnote_cell_type": "markdown",
    "tags": []
   },
   "source": [
    "We have access to the list of words of two popular books: [Frankenstein](https://en.wikipedia.org/wiki/Frankenstein) and [Moby-Dick](https://en.wikipedia.org/wiki/Moby-Dick), and want to learn more about the words that these books have in common.\n",
    "\n",
    "We wrote a function that finds the set of words that are in both books, and returns the number of elements in that set, as well as the mean and standard deviation of word lengths. Unfortunately, it is very slow. :(\n",
    "\n",
    "Write a faster version of that function, using the techniques described in the `fast_code` notebook. Feel free to use external modules such as NumPy if you want.\n",
    "\n",
    "**Hint:** Your solution can be implemented in 3-5 lines of code, and should result in a rougly 1000x speedup.\n"
   ]
  },
  {
   "cell_type": "code",
   "execution_count": 1,
   "metadata": {
    "ExecuteTime": {
     "end_time": "2020-12-28T20:15:56.322093Z",
     "start_time": "2020-12-28T20:15:56.199791Z"
    },
    "cell_id": "00002-ccacafe1-5829-4110-a2c2-6356d9f99af6",
    "deepnote_cell_type": "code",
    "execution_millis": 220,
    "execution_start": 1605448636229,
    "output_cleared": false,
    "source_hash": "54c3b836",
    "tags": []
   },
   "outputs": [],
   "source": [
    "import re\n",
    "\n",
    "# Get list of words from Frankenstein and Moby Dick\n",
    "\n",
    "with open(\"frankenstein.txt\", \"r\") as f:\n",
    "    frankenstein = f.read()\n",
    "    frankenstein_words = re.findall(\"[A-Za-z]+\", frankenstein)\n",
    "    frankenstein_words = [word.lower() for word in frankenstein_words]\n",
    "\n",
    "with open(\"moby_dick.txt\", \"r\") as f:\n",
    "    moby_dick = f.read()\n",
    "    moby_dick_words = re.findall(\"[A-Za-z]+\", moby_dick)\n",
    "    moby_dick_words = [word.lower() for word in moby_dick_words]"
   ]
  },
  {
   "cell_type": "code",
   "execution_count": 2,
   "metadata": {
    "ExecuteTime": {
     "end_time": "2020-12-28T20:15:56.707519Z",
     "start_time": "2020-12-28T20:15:56.695730Z"
    },
    "cell_id": "00003-dc8f599e-b2ba-497d-bca4-ce98720e3f6e",
    "deepnote_cell_type": "code",
    "execution_millis": 3,
    "execution_start": 1605448637442,
    "output_cleared": false,
    "source_hash": "9fc293cc",
    "tags": []
   },
   "outputs": [],
   "source": [
    "def word_stats_slow(l1, l2):\n",
    "    # Find common words \n",
    "    common_words = []\n",
    "    for word in l1:\n",
    "        if word not in common_words and word in l2:\n",
    "            common_words.append(word)\n",
    "    \n",
    "    # Count number of words\n",
    "    word_count = 0\n",
    "    for word in common_words:\n",
    "        word_count += 1\n",
    "    \n",
    "    # Compute mean\n",
    "    word_length_sum = 0\n",
    "    for word in common_words:\n",
    "        word_length_sum += len(word)\n",
    "\n",
    "    mean = word_length_sum / word_count\n",
    "\n",
    "    # Compute variance\n",
    "    variance = 0\n",
    "    for word in common_words:\n",
    "        variance += (len(word) - mean) ** 2\n",
    "    variance = variance / word_count\n",
    "\n",
    "    return word_count, mean, variance ** 0.5\n"
   ]
  },
  {
   "cell_type": "code",
   "execution_count": 3,
   "metadata": {
    "ExecuteTime": {
     "end_time": "2020-12-28T20:16:09.963666Z",
     "start_time": "2020-12-28T20:15:57.656077Z"
    },
    "cell_id": "00004-7eafb871-5230-4671-ac6b-35d36fe09a4a",
    "deepnote_cell_type": "code",
    "execution_millis": 22365,
    "execution_start": 1605448638488,
    "output_cleared": false,
    "source_hash": "c56591e4",
    "tags": []
   },
   "outputs": [
    {
     "data": {
      "text/plain": [
       "(5286, 6.943057132046916, 2.2687341813469475)"
      ]
     },
     "execution_count": 3,
     "metadata": {},
     "output_type": "execute_result"
    }
   ],
   "source": [
    "# This is REALLY slow\n",
    "word_stats_slow(frankenstein_words, moby_dick_words)"
   ]
  },
  {
   "cell_type": "code",
   "execution_count": null,
   "metadata": {
    "cell_id": "00005-935c668d-e1e0-4ae5-ab6d-7317d68367db",
    "deepnote_cell_type": "code",
    "tags": []
   },
   "outputs": [],
   "source": [
    "def word_stats_fast(l1, l2):\n",
    "    # Your code here:\n",
    "    raise NotImplementedError\n",
    "\n",
    "word_stats_fast(frankenstein_words, moby_dick_words)"
   ]
  },
  {
   "cell_type": "code",
   "execution_count": null,
   "metadata": {
    "cell_id": "00006-82acc61d-1eb4-4c95-91eb-32b07e039c62",
    "deepnote_cell_type": "code",
    "tags": []
   },
   "outputs": [],
   "source": [
    "print(\"Slow:\")\n",
    "%timeit -r1 word_stats_slow(frankenstein_words, moby_dick_words)\n",
    "print(\"Fast:\")\n",
    "%timeit word_stats_fast(frankenstein_words, moby_dick_words)"
   ]
  }
 ],
 "metadata": {
  "deepnoteSessionId": "dea8a0f5-35e3-4468-94eb-804ff5fc7baa",
  "deepnote_execution_queue": [],
  "deepnote_notebook_id": "f0825862-900e-4a9e-a209-1869ad40068d",
  "kernelspec": {
   "display_name": "Python 3",
   "language": "python",
   "name": "python3"
  },
  "language_info": {
   "codemirror_mode": {
    "name": "ipython",
    "version": 3
   },
   "file_extension": ".py",
   "mimetype": "text/x-python",
   "name": "python",
   "nbconvert_exporter": "python",
   "pygments_lexer": "ipython3",
   "version": "3.7.4"
  }
 },
 "nbformat": 4,
 "nbformat_minor": 4
}
